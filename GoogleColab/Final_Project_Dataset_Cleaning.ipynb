{
  "nbformat": 4,
  "nbformat_minor": 0,
  "metadata": {
    "colab": {
      "provenance": [],
      "collapsed_sections": [
        "gQcNkyb0GSKb",
        "TRJ6S9KrJK01",
        "w_8NY9LbK5Je",
        "5bYanh2QYHPu",
        "kTGr0WINNPMP",
        "vh6HgKGd23yt",
        "-zmGknl0Fv56",
        "7jlAIvDXHgPy"
      ]
    },
    "kernelspec": {
      "name": "python3",
      "display_name": "Python 3"
    },
    "language_info": {
      "name": "python"
    }
  },
  "cells": [
    {
      "cell_type": "code",
      "execution_count": null,
      "metadata": {
        "id": "y3Ol9gmCwTTC"
      },
      "outputs": [],
      "source": [
        "import pandas as pd\n",
        "import numpy as np"
      ]
    },
    {
      "cell_type": "code",
      "source": [
        "from google.colab import drive\n",
        "\n",
        "drive.mount('/content/drive')\n",
        "\n",
        "path = \"/content/drive/My Drive/Colab Notebooks/VanHome_AddFeature.csv\"\n",
        "#taban path : path = \"/content/drive/My Drive/VanHome_AddFeature.csv\"\n",
        "\n",
        "dataset = pd.read_csv(path)"
      ],
      "metadata": {
        "colab": {
          "base_uri": "https://localhost:8080/"
        },
        "id": "zD8tpo8Vw09w",
        "outputId": "da5b97ff-f343-458d-9d08-a1ec9fea9d3e"
      },
      "execution_count": null,
      "outputs": [
        {
          "output_type": "stream",
          "name": "stdout",
          "text": [
            "Drive already mounted at /content/drive; to attempt to forcibly remount, call drive.mount(\"/content/drive\", force_remount=True).\n"
          ]
        }
      ]
    },
    {
      "cell_type": "code",
      "source": [
        "dataset.info()"
      ],
      "metadata": {
        "id": "48Jv_TefzjTO",
        "outputId": "70140f71-f598-4275-e882-94cd716bd536",
        "colab": {
          "base_uri": "https://localhost:8080/"
        }
      },
      "execution_count": null,
      "outputs": [
        {
          "output_type": "stream",
          "name": "stdout",
          "text": [
            "<class 'pandas.core.frame.DataFrame'>\n",
            "RangeIndex: 178610 entries, 0 to 178609\n",
            "Data columns (total 14 columns):\n",
            " #   Column           Non-Null Count   Dtype  \n",
            "---  ------           --------------   -----  \n",
            " 0   ML #             178610 non-null  object \n",
            " 1   Address          178610 non-null  object \n",
            " 2   Price            178610 non-null  int64  \n",
            " 3   List Date        178610 non-null  object \n",
            " 4   List Duration    178610 non-null  int64  \n",
            " 5   Total Bedrooms   178610 non-null  int64  \n",
            " 6   Total Bathrooms  178610 non-null  float64\n",
            " 7   Total Area       178610 non-null  int64  \n",
            " 8   Age              178610 non-null  float64\n",
            " 9   Frontage         178610 non-null  float64\n",
            " 10  Total Kitchens   178610 non-null  int64  \n",
            " 11  City             178610 non-null  object \n",
            " 12  ifPendemic       178610 non-null  int64  \n",
            " 13  ifAdditionalTax  178610 non-null  int64  \n",
            "dtypes: float64(3), int64(7), object(4)\n",
            "memory usage: 19.1+ MB\n"
          ]
        }
      ]
    },
    {
      "cell_type": "code",
      "source": [
        "dataset.columns"
      ],
      "metadata": {
        "colab": {
          "base_uri": "https://localhost:8080/"
        },
        "id": "3qf8_0Cq8QtL",
        "outputId": "e190bfee-8fac-4b43-e89d-f1e0832ff44f"
      },
      "execution_count": null,
      "outputs": [
        {
          "output_type": "execute_result",
          "data": {
            "text/plain": [
              "Index(['ML #', 'Address', 'Price', 'List Date', 'List Duration',\n",
              "       'Total Bedrooms', 'Total Bathrooms', 'Total Area', 'Age', 'Frontage',\n",
              "       'Total Kitchens', 'City', 'ifPendemic', 'ifAdditionalTax'],\n",
              "      dtype='object')"
            ]
          },
          "metadata": {},
          "execution_count": 82
        }
      ]
    },
    {
      "cell_type": "code",
      "source": [
        "#dataset['Style of Home'].nunique() #164\n",
        "#dataset['TypeDwel'].nunique() #7 +nan"
      ],
      "metadata": {
        "id": "_iEkZzY08bWx"
      },
      "execution_count": null,
      "outputs": []
    },
    {
      "cell_type": "code",
      "source": [
        "#dataset['TypeDwel'].unique()"
      ],
      "metadata": {
        "id": "o5JS9s1Q9ntp"
      },
      "execution_count": null,
      "outputs": []
    },
    {
      "cell_type": "code",
      "source": [
        "dataset=dataset.loc[:, ['ML #', 'Address', 'Price', 'List Date', 'List Duration',\n",
        "       'Total Bedrooms', 'Total Bathrooms', 'Total Area', 'Age', 'Frontage',\n",
        "       'Total Kitchens', 'City', 'ifPendemic', 'ifAdditionalTax']]"
      ],
      "metadata": {
        "id": "9QESSyKP1pni"
      },
      "execution_count": null,
      "outputs": []
    },
    {
      "cell_type": "code",
      "source": [
        "dataset.head()"
      ],
      "metadata": {
        "colab": {
          "base_uri": "https://localhost:8080/",
          "height": 354
        },
        "id": "U7faab7B8Nym",
        "outputId": "2267fb21-1913-40b5-9ef9-e43d46f807fe"
      },
      "execution_count": null,
      "outputs": [
        {
          "output_type": "execute_result",
          "data": {
            "text/plain": [
              "      ML #                 Address   Price   List Date  List Duration  \\\n",
              "0  V669393      4263 NAPIER STREET   61700  2007-09-17              2   \n",
              "1  V357072    6396 ARBROATH STREET  172800  2003-08-26             95   \n",
              "2  V323545        7408 17TH AVENUE  187000  2003-01-24             99   \n",
              "3  V404041  205 3978 ALBERT STREET  189500  2004-06-07              2   \n",
              "4  V314537    9922 SULLIVAN STREET  190000  2002-10-26             21   \n",
              "\n",
              "   Total Bedrooms  Total Bathrooms  Total Area        Age  Frontage  \\\n",
              "0               3              2.0        1340  60.000000      50.0   \n",
              "1               2              1.0        1200  37.580899      33.0   \n",
              "2               2              1.0         700  48.000000      66.0   \n",
              "3               2              2.0         943   9.000000       0.0   \n",
              "4               2              1.0        1354  37.580899      71.0   \n",
              "\n",
              "   Total Kitchens     City  ifPendemic  ifAdditionalTax  \n",
              "0               1  Burnaby           0                0  \n",
              "1               1  Burnaby           0                0  \n",
              "2               1  Burnaby           0                0  \n",
              "3               1  Burnaby           0                0  \n",
              "4               1  Burnaby           0                0  "
            ],
            "text/html": [
              "\n",
              "  <div id=\"df-86efcc9e-ca74-481f-bccd-12f4b4ec77a0\">\n",
              "    <div class=\"colab-df-container\">\n",
              "      <div>\n",
              "<style scoped>\n",
              "    .dataframe tbody tr th:only-of-type {\n",
              "        vertical-align: middle;\n",
              "    }\n",
              "\n",
              "    .dataframe tbody tr th {\n",
              "        vertical-align: top;\n",
              "    }\n",
              "\n",
              "    .dataframe thead th {\n",
              "        text-align: right;\n",
              "    }\n",
              "</style>\n",
              "<table border=\"1\" class=\"dataframe\">\n",
              "  <thead>\n",
              "    <tr style=\"text-align: right;\">\n",
              "      <th></th>\n",
              "      <th>ML #</th>\n",
              "      <th>Address</th>\n",
              "      <th>Price</th>\n",
              "      <th>List Date</th>\n",
              "      <th>List Duration</th>\n",
              "      <th>Total Bedrooms</th>\n",
              "      <th>Total Bathrooms</th>\n",
              "      <th>Total Area</th>\n",
              "      <th>Age</th>\n",
              "      <th>Frontage</th>\n",
              "      <th>Total Kitchens</th>\n",
              "      <th>City</th>\n",
              "      <th>ifPendemic</th>\n",
              "      <th>ifAdditionalTax</th>\n",
              "    </tr>\n",
              "  </thead>\n",
              "  <tbody>\n",
              "    <tr>\n",
              "      <th>0</th>\n",
              "      <td>V669393</td>\n",
              "      <td>4263 NAPIER STREET</td>\n",
              "      <td>61700</td>\n",
              "      <td>2007-09-17</td>\n",
              "      <td>2</td>\n",
              "      <td>3</td>\n",
              "      <td>2.0</td>\n",
              "      <td>1340</td>\n",
              "      <td>60.000000</td>\n",
              "      <td>50.0</td>\n",
              "      <td>1</td>\n",
              "      <td>Burnaby</td>\n",
              "      <td>0</td>\n",
              "      <td>0</td>\n",
              "    </tr>\n",
              "    <tr>\n",
              "      <th>1</th>\n",
              "      <td>V357072</td>\n",
              "      <td>6396 ARBROATH STREET</td>\n",
              "      <td>172800</td>\n",
              "      <td>2003-08-26</td>\n",
              "      <td>95</td>\n",
              "      <td>2</td>\n",
              "      <td>1.0</td>\n",
              "      <td>1200</td>\n",
              "      <td>37.580899</td>\n",
              "      <td>33.0</td>\n",
              "      <td>1</td>\n",
              "      <td>Burnaby</td>\n",
              "      <td>0</td>\n",
              "      <td>0</td>\n",
              "    </tr>\n",
              "    <tr>\n",
              "      <th>2</th>\n",
              "      <td>V323545</td>\n",
              "      <td>7408 17TH AVENUE</td>\n",
              "      <td>187000</td>\n",
              "      <td>2003-01-24</td>\n",
              "      <td>99</td>\n",
              "      <td>2</td>\n",
              "      <td>1.0</td>\n",
              "      <td>700</td>\n",
              "      <td>48.000000</td>\n",
              "      <td>66.0</td>\n",
              "      <td>1</td>\n",
              "      <td>Burnaby</td>\n",
              "      <td>0</td>\n",
              "      <td>0</td>\n",
              "    </tr>\n",
              "    <tr>\n",
              "      <th>3</th>\n",
              "      <td>V404041</td>\n",
              "      <td>205 3978 ALBERT STREET</td>\n",
              "      <td>189500</td>\n",
              "      <td>2004-06-07</td>\n",
              "      <td>2</td>\n",
              "      <td>2</td>\n",
              "      <td>2.0</td>\n",
              "      <td>943</td>\n",
              "      <td>9.000000</td>\n",
              "      <td>0.0</td>\n",
              "      <td>1</td>\n",
              "      <td>Burnaby</td>\n",
              "      <td>0</td>\n",
              "      <td>0</td>\n",
              "    </tr>\n",
              "    <tr>\n",
              "      <th>4</th>\n",
              "      <td>V314537</td>\n",
              "      <td>9922 SULLIVAN STREET</td>\n",
              "      <td>190000</td>\n",
              "      <td>2002-10-26</td>\n",
              "      <td>21</td>\n",
              "      <td>2</td>\n",
              "      <td>1.0</td>\n",
              "      <td>1354</td>\n",
              "      <td>37.580899</td>\n",
              "      <td>71.0</td>\n",
              "      <td>1</td>\n",
              "      <td>Burnaby</td>\n",
              "      <td>0</td>\n",
              "      <td>0</td>\n",
              "    </tr>\n",
              "  </tbody>\n",
              "</table>\n",
              "</div>\n",
              "      <button class=\"colab-df-convert\" onclick=\"convertToInteractive('df-86efcc9e-ca74-481f-bccd-12f4b4ec77a0')\"\n",
              "              title=\"Convert this dataframe to an interactive table.\"\n",
              "              style=\"display:none;\">\n",
              "        \n",
              "  <svg xmlns=\"http://www.w3.org/2000/svg\" height=\"24px\"viewBox=\"0 0 24 24\"\n",
              "       width=\"24px\">\n",
              "    <path d=\"M0 0h24v24H0V0z\" fill=\"none\"/>\n",
              "    <path d=\"M18.56 5.44l.94 2.06.94-2.06 2.06-.94-2.06-.94-.94-2.06-.94 2.06-2.06.94zm-11 1L8.5 8.5l.94-2.06 2.06-.94-2.06-.94L8.5 2.5l-.94 2.06-2.06.94zm10 10l.94 2.06.94-2.06 2.06-.94-2.06-.94-.94-2.06-.94 2.06-2.06.94z\"/><path d=\"M17.41 7.96l-1.37-1.37c-.4-.4-.92-.59-1.43-.59-.52 0-1.04.2-1.43.59L10.3 9.45l-7.72 7.72c-.78.78-.78 2.05 0 2.83L4 21.41c.39.39.9.59 1.41.59.51 0 1.02-.2 1.41-.59l7.78-7.78 2.81-2.81c.8-.78.8-2.07 0-2.86zM5.41 20L4 18.59l7.72-7.72 1.47 1.35L5.41 20z\"/>\n",
              "  </svg>\n",
              "      </button>\n",
              "      \n",
              "  <style>\n",
              "    .colab-df-container {\n",
              "      display:flex;\n",
              "      flex-wrap:wrap;\n",
              "      gap: 12px;\n",
              "    }\n",
              "\n",
              "    .colab-df-convert {\n",
              "      background-color: #E8F0FE;\n",
              "      border: none;\n",
              "      border-radius: 50%;\n",
              "      cursor: pointer;\n",
              "      display: none;\n",
              "      fill: #1967D2;\n",
              "      height: 32px;\n",
              "      padding: 0 0 0 0;\n",
              "      width: 32px;\n",
              "    }\n",
              "\n",
              "    .colab-df-convert:hover {\n",
              "      background-color: #E2EBFA;\n",
              "      box-shadow: 0px 1px 2px rgba(60, 64, 67, 0.3), 0px 1px 3px 1px rgba(60, 64, 67, 0.15);\n",
              "      fill: #174EA6;\n",
              "    }\n",
              "\n",
              "    [theme=dark] .colab-df-convert {\n",
              "      background-color: #3B4455;\n",
              "      fill: #D2E3FC;\n",
              "    }\n",
              "\n",
              "    [theme=dark] .colab-df-convert:hover {\n",
              "      background-color: #434B5C;\n",
              "      box-shadow: 0px 1px 3px 1px rgba(0, 0, 0, 0.15);\n",
              "      filter: drop-shadow(0px 1px 2px rgba(0, 0, 0, 0.3));\n",
              "      fill: #FFFFFF;\n",
              "    }\n",
              "  </style>\n",
              "\n",
              "      <script>\n",
              "        const buttonEl =\n",
              "          document.querySelector('#df-86efcc9e-ca74-481f-bccd-12f4b4ec77a0 button.colab-df-convert');\n",
              "        buttonEl.style.display =\n",
              "          google.colab.kernel.accessAllowed ? 'block' : 'none';\n",
              "\n",
              "        async function convertToInteractive(key) {\n",
              "          const element = document.querySelector('#df-86efcc9e-ca74-481f-bccd-12f4b4ec77a0');\n",
              "          const dataTable =\n",
              "            await google.colab.kernel.invokeFunction('convertToInteractive',\n",
              "                                                     [key], {});\n",
              "          if (!dataTable) return;\n",
              "\n",
              "          const docLinkHtml = 'Like what you see? Visit the ' +\n",
              "            '<a target=\"_blank\" href=https://colab.research.google.com/notebooks/data_table.ipynb>data table notebook</a>'\n",
              "            + ' to learn more about interactive tables.';\n",
              "          element.innerHTML = '';\n",
              "          dataTable['output_type'] = 'display_data';\n",
              "          await google.colab.output.renderOutput(dataTable, element);\n",
              "          const docLink = document.createElement('div');\n",
              "          docLink.innerHTML = docLinkHtml;\n",
              "          element.appendChild(docLink);\n",
              "        }\n",
              "      </script>\n",
              "    </div>\n",
              "  </div>\n",
              "  "
            ]
          },
          "metadata": {},
          "execution_count": 86
        }
      ]
    },
    {
      "cell_type": "code",
      "source": [
        "from geopy.geocoders import Nominatim"
      ],
      "metadata": {
        "id": "hdotQm6m3lrs"
      },
      "execution_count": null,
      "outputs": []
    },
    {
      "cell_type": "code",
      "source": [
        " #initialize Nominatim API \n",
        "geolocator = Nominatim(user_agent=\"geoapiExercises\")"
      ],
      "metadata": {
        "id": "Njh6inkv1nGV"
      },
      "execution_count": null,
      "outputs": []
    },
    {
      "cell_type": "code",
      "source": [
        "place = \"1525 COAL HARBOUR QUAY, Vancouver, Canada\"\n",
        "location = geolocator.geocode(place)\n",
        "print(location)"
      ],
      "metadata": {
        "id": "wgmJGkKF1kyR",
        "colab": {
          "base_uri": "https://localhost:8080/"
        },
        "outputId": "7368ae7a-2663-4111-b3d4-504080b5b8b5"
      },
      "execution_count": null,
      "outputs": [
        {
          "output_type": "stream",
          "name": "stdout",
          "text": [
            "Coal Harbour Quay, Coal Harbour, Downtown, Vancouver, Metro Vancouver Regional District, British Columbia, V6G, Canada\n"
          ]
        }
      ]
    },
    {
      "cell_type": "code",
      "source": [
        "#dataset['geo_address'] = dataset.Address + \", Vancouver, Canada\""
      ],
      "metadata": {
        "id": "yTxmv-m__-kH"
      },
      "execution_count": null,
      "outputs": []
    },
    {
      "cell_type": "code",
      "source": [
        "#dataset['address_f']=dataset.geo_address.apply(geolocator.geocode)"
      ],
      "metadata": {
        "id": "WzRxVdf5AP3r"
      },
      "execution_count": null,
      "outputs": []
    },
    {
      "cell_type": "code",
      "source": [
        "#dataset['address_f']"
      ],
      "metadata": {
        "id": "j1-zUG87BcRb"
      },
      "execution_count": null,
      "outputs": []
    },
    {
      "cell_type": "markdown",
      "source": [
        "#EDA"
      ],
      "metadata": {
        "id": "rm3FuYIfD_EU"
      }
    },
    {
      "cell_type": "code",
      "source": [
        "dataset['Age'].dtype"
      ],
      "metadata": {
        "colab": {
          "base_uri": "https://localhost:8080/"
        },
        "id": "dhLOrMCrErx0",
        "outputId": "79bf9f06-ed47-4f2e-c5b5-b41111a20980"
      },
      "execution_count": null,
      "outputs": [
        {
          "output_type": "execute_result",
          "data": {
            "text/plain": [
              "dtype('float64')"
            ]
          },
          "metadata": {},
          "execution_count": 93
        }
      ]
    },
    {
      "cell_type": "code",
      "source": [
        "dataset.shape"
      ],
      "metadata": {
        "colab": {
          "base_uri": "https://localhost:8080/"
        },
        "id": "PoL7-GMNFNaf",
        "outputId": "8e43b711-0489-4e6f-8355-af7e66c1e3d0"
      },
      "execution_count": null,
      "outputs": [
        {
          "output_type": "execute_result",
          "data": {
            "text/plain": [
              "(178610, 14)"
            ]
          },
          "metadata": {},
          "execution_count": 94
        }
      ]
    },
    {
      "cell_type": "code",
      "source": [
        "2597/66000*100"
      ],
      "metadata": {
        "colab": {
          "base_uri": "https://localhost:8080/"
        },
        "id": "0rqE2sUiFVac",
        "outputId": "fe985ccb-6528-4547-edb5-fa773cf3533a"
      },
      "execution_count": null,
      "outputs": [
        {
          "output_type": "execute_result",
          "data": {
            "text/plain": [
              "3.9348484848484846"
            ]
          },
          "metadata": {},
          "execution_count": 95
        }
      ]
    },
    {
      "cell_type": "code",
      "source": [
        "import seaborn as sns\n",
        "df_sns=dataset[dataset['Age']>100]\n",
        "sns.distplot(df_sns['Age'])"
      ],
      "metadata": {
        "colab": {
          "base_uri": "https://localhost:8080/",
          "height": 792
        },
        "id": "vlVpu2lhF8Bx",
        "outputId": "d21a0696-6ec7-4670-e2f4-bda8da027631"
      },
      "execution_count": null,
      "outputs": [
        {
          "output_type": "stream",
          "name": "stderr",
          "text": [
            "/usr/local/lib/python3.8/dist-packages/seaborn/distributions.py:2619: FutureWarning: `distplot` is a deprecated function and will be removed in a future version. Please adapt your code to use either `displot` (a figure-level function with similar flexibility) or `histplot` (an axes-level function for histograms).\n",
            "  warnings.warn(msg, FutureWarning)\n"
          ]
        },
        {
          "output_type": "execute_result",
          "data": {
            "text/plain": [
              "<matplotlib.axes._subplots.AxesSubplot at 0x7f01df6a1820>"
            ]
          },
          "metadata": {},
          "execution_count": 96
        },
        {
          "output_type": "display_data",
          "data": {
            "text/plain": [
              "<Figure size 1440x864 with 1 Axes>"
            ],
            "image/png": "[encoded data removed]"
          },
          "metadata": {}
        }
      ]
    },
    {
      "cell_type": "code",
      "source": [
        "#df_sns['Yr Blt'].unique()"
      ],
      "metadata": {
        "id": "Rj3hXl2ZG1nR"
      },
      "execution_count": null,
      "outputs": []
    },
    {
      "cell_type": "code",
      "source": [
        "#dataset[dataset['Yr Blt']==9999]=1999\n",
        "#dataset[dataset['Yr Blt']==9990]=1990\n",
        "#dataset[dataset['Yr Blt']==9992]=1992\n",
        "#dataset[dataset['Yr Blt']==9996]=1996\n",
        "#dataset[dataset['Yr Blt']==9998]=1998"
      ],
      "metadata": {
        "id": "8TXgfujiEBhp"
      },
      "execution_count": null,
      "outputs": []
    },
    {
      "cell_type": "code",
      "source": [
        "#dataset['Price'] = dataset['Price'].astype(float)\n",
        "#df['column_name'] = pd.to_numeric(df['column_name'])\n",
        "dataset['Price'] = dataset['Price'].replace('[\\$,]', '', regex=True).astype(float)"
      ],
      "metadata": {
        "id": "GncN83VZJASy"
      },
      "execution_count": null,
      "outputs": []
    },
    {
      "cell_type": "code",
      "source": [
        "sns.displot(dataset['Price'])"
      ],
      "metadata": {
        "colab": {
          "base_uri": "https://localhost:8080/",
          "height": 382
        },
        "id": "7Tj-jSlSGwRL",
        "outputId": "508d454b-20af-4056-e4c1-922c0b8c74ee"
      },
      "execution_count": null,
      "outputs": [
        {
          "output_type": "execute_result",
          "data": {
            "text/plain": [
              "<seaborn.axisgrid.FacetGrid at 0x7f01d4f576a0>"
            ]
          },
          "metadata": {},
          "execution_count": 100
        },
        {
          "output_type": "display_data",
          "data": {
            "text/plain": [
              "<Figure size 360x360 with 1 Axes>"
            ],
            "image/png": "[encoded data removed]"
          },
          "metadata": {}
        }
      ]
    },
    {
      "cell_type": "code",
      "source": [
        "null_columns=dataset.columns[dataset.isnull().any()]\n",
        "dataset[null_columns].isnull().sum()"
      ],
      "metadata": {
        "colab": {
          "base_uri": "https://localhost:8080/"
        },
        "id": "Gdp1lLHwI-Tz",
        "outputId": "fe2ef7a6-8606-42fc-a9d6-37d4f8e974fb"
      },
      "execution_count": null,
      "outputs": [
        {
          "output_type": "execute_result",
          "data": {
            "text/plain": [
              "Series([], dtype: float64)"
            ]
          },
          "metadata": {},
          "execution_count": 101
        }
      ]
    },
    {
      "cell_type": "code",
      "source": [
        "dataset.Age.unique"
      ],
      "metadata": {
        "colab": {
          "base_uri": "https://localhost:8080/"
        },
        "id": "avIQllvXWt6l",
        "outputId": "df030074-9baf-4a10-b3fa-c76bcee34c73"
      },
      "execution_count": null,
      "outputs": [
        {
          "output_type": "execute_result",
          "data": {
            "text/plain": [
              "<bound method Series.unique of 0         60.000000\n",
              "1         37.580899\n",
              "2         48.000000\n",
              "3          9.000000\n",
              "4         37.580899\n",
              "            ...    \n",
              "178605     0.000000\n",
              "178606    36.135407\n",
              "178607     1.000000\n",
              "178608     1.000000\n",
              "178609    77.000000\n",
              "Name: Age, Length: 178610, dtype: float64>"
            ]
          },
          "metadata": {},
          "execution_count": 102
        }
      ]
    },
    {
      "cell_type": "code",
      "source": [
        "sns.displot(dataset['Age'])"
      ],
      "metadata": {
        "colab": {
          "base_uri": "https://localhost:8080/",
          "height": 382
        },
        "id": "juzuadImW7YI",
        "outputId": "039d09c7-e306-45da-e8b7-2bf47684a7e4"
      },
      "execution_count": null,
      "outputs": [
        {
          "output_type": "execute_result",
          "data": {
            "text/plain": [
              "<seaborn.axisgrid.FacetGrid at 0x7f01dfe29fa0>"
            ]
          },
          "metadata": {},
          "execution_count": 103
        },
        {
          "output_type": "display_data",
          "data": {
            "text/plain": [
              "<Figure size 360x360 with 1 Axes>"
            ],
            "image/png": "[encoded data removed]"
          },
          "metadata": {}
        }
      ]
    },
    {
      "cell_type": "code",
      "source": [
        "df_sns=dataset[dataset['Age']<150]\n",
        "sns.distplot(df_sns['Age'])"
      ],
      "metadata": {
        "colab": {
          "base_uri": "https://localhost:8080/",
          "height": 796
        },
        "id": "3l3f0rclXfS7",
        "outputId": "7597bc15-bff2-44c0-9677-52950e6f07f6"
      },
      "execution_count": null,
      "outputs": [
        {
          "output_type": "stream",
          "name": "stderr",
          "text": [
            "/usr/local/lib/python3.8/dist-packages/seaborn/distributions.py:2619: FutureWarning: `distplot` is a deprecated function and will be removed in a future version. Please adapt your code to use either `displot` (a figure-level function with similar flexibility) or `histplot` (an axes-level function for histograms).\n",
            "  warnings.warn(msg, FutureWarning)\n"
          ]
        },
        {
          "output_type": "execute_result",
          "data": {
            "text/plain": [
              "<matplotlib.axes._subplots.AxesSubplot at 0x7f01d3b5a4c0>"
            ]
          },
          "metadata": {},
          "execution_count": 104
        },
        {
          "output_type": "display_data",
          "data": {
            "text/plain": [
              "<Figure size 1440x864 with 1 Axes>"
            ],
            "image/png": "[encoded data removed]"
          },
          "metadata": {}
        }
      ]
    },
    {
      "cell_type": "code",
      "source": [
        "dataset=dataset[dataset[\"Age\"]<150]"
      ],
      "metadata": {
        "id": "_c58RQuqXvo4"
      },
      "execution_count": null,
      "outputs": []
    },
    {
      "cell_type": "code",
      "source": [
        "#import missingno as msno\n",
        "#msno.matrix(dataset)"
      ],
      "metadata": {
        "id": "MdIDLoE9VD-K"
      },
      "execution_count": null,
      "outputs": []
    },
    {
      "cell_type": "code",
      "source": [
        "#dataset = dataset.drop('Yr Blt', axis=1)"
      ],
      "metadata": {
        "id": "fgNWkn94Yhcl"
      },
      "execution_count": null,
      "outputs": []
    },
    {
      "cell_type": "code",
      "source": [
        "dataset.shape"
      ],
      "metadata": {
        "colab": {
          "base_uri": "https://localhost:8080/"
        },
        "id": "G7siDneZZPJx",
        "outputId": "29b433d3-e89a-4539-a26f-fe4586122eb3"
      },
      "execution_count": null,
      "outputs": [
        {
          "output_type": "execute_result",
          "data": {
            "text/plain": [
              "(178609, 14)"
            ]
          },
          "metadata": {},
          "execution_count": 108
        }
      ]
    },
    {
      "cell_type": "code",
      "source": [
        "df = dataset.dropna()"
      ],
      "metadata": {
        "id": "_orCR87NYmnK"
      },
      "execution_count": null,
      "outputs": []
    },
    {
      "cell_type": "code",
      "source": [
        "dataset.info()"
      ],
      "metadata": {
        "colab": {
          "base_uri": "https://localhost:8080/"
        },
        "id": "YBwWnL9RfSzK",
        "outputId": "daf29f3e-a7fd-4bfa-d0f6-d37f6fb83433"
      },
      "execution_count": null,
      "outputs": [
        {
          "output_type": "stream",
          "name": "stdout",
          "text": [
            "<class 'pandas.core.frame.DataFrame'>\n",
            "Int64Index: 178609 entries, 0 to 178609\n",
            "Data columns (total 14 columns):\n",
            " #   Column           Non-Null Count   Dtype  \n",
            "---  ------           --------------   -----  \n",
            " 0   ML #             178609 non-null  object \n",
            " 1   Address          178609 non-null  object \n",
            " 2   Price            178609 non-null  float64\n",
            " 3   List Date        178609 non-null  object \n",
            " 4   List Duration    178609 non-null  int64  \n",
            " 5   Total Bedrooms   178609 non-null  int64  \n",
            " 6   Total Bathrooms  178609 non-null  float64\n",
            " 7   Total Area       178609 non-null  int64  \n",
            " 8   Age              178609 non-null  float64\n",
            " 9   Frontage         178609 non-null  float64\n",
            " 10  Total Kitchens   178609 non-null  int64  \n",
            " 11  City             178609 non-null  object \n",
            " 12  ifPendemic       178609 non-null  int64  \n",
            " 13  ifAdditionalTax  178609 non-null  int64  \n",
            "dtypes: float64(4), int64(6), object(4)\n",
            "memory usage: 20.4+ MB\n"
          ]
        }
      ]
    },
    {
      "cell_type": "markdown",
      "source": [],
      "metadata": {
        "id": "zRqtie94fOji"
      }
    },
    {
      "cell_type": "code",
      "source": [
        "df.shape"
      ],
      "metadata": {
        "colab": {
          "base_uri": "https://localhost:8080/"
        },
        "id": "nD62ZLXlZObN",
        "outputId": "98d0e26a-1c12-486a-a010-335069b5b5ee"
      },
      "execution_count": null,
      "outputs": [
        {
          "output_type": "execute_result",
          "data": {
            "text/plain": [
              "(178609, 14)"
            ]
          },
          "metadata": {},
          "execution_count": 111
        }
      ]
    },
    {
      "cell_type": "code",
      "source": [
        "null_columns=df.columns[df.isnull().any()]\n",
        "df[null_columns].isnull().sum()"
      ],
      "metadata": {
        "colab": {
          "base_uri": "https://localhost:8080/"
        },
        "id": "I6pRup_SZZkO",
        "outputId": "d8038390-3bc0-49d6-c939-a3ad82937689"
      },
      "execution_count": null,
      "outputs": [
        {
          "output_type": "execute_result",
          "data": {
            "text/plain": [
              "Series([], dtype: float64)"
            ]
          },
          "metadata": {},
          "execution_count": 112
        }
      ]
    },
    {
      "cell_type": "code",
      "source": [
        "df.head()"
      ],
      "metadata": {
        "id": "1ThEsu7rZyfI",
        "outputId": "94c029b6-bc80-401a-fec8-ad25daeff926",
        "colab": {
          "base_uri": "https://localhost:8080/",
          "height": 354
        }
      },
      "execution_count": null,
      "outputs": [
        {
          "output_type": "execute_result",
          "data": {
            "text/plain": [
              "      ML #                 Address     Price   List Date  List Duration  \\\n",
              "0  V669393      4263 NAPIER STREET   61700.0  2007-09-17              2   \n",
              "1  V357072    6396 ARBROATH STREET  172800.0  2003-08-26             95   \n",
              "2  V323545        7408 17TH AVENUE  187000.0  2003-01-24             99   \n",
              "3  V404041  205 3978 ALBERT STREET  189500.0  2004-06-07              2   \n",
              "4  V314537    9922 SULLIVAN STREET  190000.0  2002-10-26             21   \n",
              "\n",
              "   Total Bedrooms  Total Bathrooms  Total Area        Age  Frontage  \\\n",
              "0               3              2.0        1340  60.000000      50.0   \n",
              "1               2              1.0        1200  37.580899      33.0   \n",
              "2               2              1.0         700  48.000000      66.0   \n",
              "3               2              2.0         943   9.000000       0.0   \n",
              "4               2              1.0        1354  37.580899      71.0   \n",
              "\n",
              "   Total Kitchens     City  ifPendemic  ifAdditionalTax  \n",
              "0               1  Burnaby           0                0  \n",
              "1               1  Burnaby           0                0  \n",
              "2               1  Burnaby           0                0  \n",
              "3               1  Burnaby           0                0  \n",
              "4               1  Burnaby           0                0  "
            ],
            "text/html": [
              "\n",
              "  <div id=\"df-a7c35f96-5cd1-46f5-8a9d-569e89e609b9\">\n",
              "    <div class=\"colab-df-container\">\n",
              "      <div>\n",
              "<style scoped>\n",
              "    .dataframe tbody tr th:only-of-type {\n",
              "        vertical-align: middle;\n",
              "    }\n",
              "\n",
              "    .dataframe tbody tr th {\n",
              "        vertical-align: top;\n",
              "    }\n",
              "\n",
              "    .dataframe thead th {\n",
              "        text-align: right;\n",
              "    }\n",
              "</style>\n",
              "<table border=\"1\" class=\"dataframe\">\n",
              "  <thead>\n",
              "    <tr style=\"text-align: right;\">\n",
              "      <th></th>\n",
              "      <th>ML #</th>\n",
              "      <th>Address</th>\n",
              "      <th>Price</th>\n",
              "      <th>List Date</th>\n",
              "      <th>List Duration</th>\n",
              "      <th>Total Bedrooms</th>\n",
              "      <th>Total Bathrooms</th>\n",
              "      <th>Total Area</th>\n",
              "      <th>Age</th>\n",
              "      <th>Frontage</th>\n",
              "      <th>Total Kitchens</th>\n",
              "      <th>City</th>\n",
              "      <th>ifPendemic</th>\n",
              "      <th>ifAdditionalTax</th>\n",
              "    </tr>\n",
              "  </thead>\n",
              "  <tbody>\n",
              "    <tr>\n",
              "      <th>0</th>\n",
              "      <td>V669393</td>\n",
              "      <td>4263 NAPIER STREET</td>\n",
              "      <td>61700.0</td>\n",
              "      <td>2007-09-17</td>\n",
              "      <td>2</td>\n",
              "      <td>3</td>\n",
              "      <td>2.0</td>\n",
              "      <td>1340</td>\n",
              "      <td>60.000000</td>\n",
              "      <td>50.0</td>\n",
              "      <td>1</td>\n",
              "      <td>Burnaby</td>\n",
              "      <td>0</td>\n",
              "      <td>0</td>\n",
              "    </tr>\n",
              "    <tr>\n",
              "      <th>1</th>\n",
              "      <td>V357072</td>\n",
              "      <td>6396 ARBROATH STREET</td>\n",
              "      <td>172800.0</td>\n",
              "      <td>2003-08-26</td>\n",
              "      <td>95</td>\n",
              "      <td>2</td>\n",
              "      <td>1.0</td>\n",
              "      <td>1200</td>\n",
              "      <td>37.580899</td>\n",
              "      <td>33.0</td>\n",
              "      <td>1</td>\n",
              "      <td>Burnaby</td>\n",
              "      <td>0</td>\n",
              "      <td>0</td>\n",
              "    </tr>\n",
              "    <tr>\n",
              "      <th>2</th>\n",
              "      <td>V323545</td>\n",
              "      <td>7408 17TH AVENUE</td>\n",
              "      <td>187000.0</td>\n",
              "      <td>2003-01-24</td>\n",
              "      <td>99</td>\n",
              "      <td>2</td>\n",
              "      <td>1.0</td>\n",
              "      <td>700</td>\n",
              "      <td>48.000000</td>\n",
              "      <td>66.0</td>\n",
              "      <td>1</td>\n",
              "      <td>Burnaby</td>\n",
              "      <td>0</td>\n",
              "      <td>0</td>\n",
              "    </tr>\n",
              "    <tr>\n",
              "      <th>3</th>\n",
              "      <td>V404041</td>\n",
              "      <td>205 3978 ALBERT STREET</td>\n",
              "      <td>189500.0</td>\n",
              "      <td>2004-06-07</td>\n",
              "      <td>2</td>\n",
              "      <td>2</td>\n",
              "      <td>2.0</td>\n",
              "      <td>943</td>\n",
              "      <td>9.000000</td>\n",
              "      <td>0.0</td>\n",
              "      <td>1</td>\n",
              "      <td>Burnaby</td>\n",
              "      <td>0</td>\n",
              "      <td>0</td>\n",
              "    </tr>\n",
              "    <tr>\n",
              "      <th>4</th>\n",
              "      <td>V314537</td>\n",
              "      <td>9922 SULLIVAN STREET</td>\n",
              "      <td>190000.0</td>\n",
              "      <td>2002-10-26</td>\n",
              "      <td>21</td>\n",
              "      <td>2</td>\n",
              "      <td>1.0</td>\n",
              "      <td>1354</td>\n",
              "      <td>37.580899</td>\n",
              "      <td>71.0</td>\n",
              "      <td>1</td>\n",
              "      <td>Burnaby</td>\n",
              "      <td>0</td>\n",
              "      <td>0</td>\n",
              "    </tr>\n",
              "  </tbody>\n",
              "</table>\n",
              "</div>\n",
              "      <button class=\"colab-df-convert\" onclick=\"convertToInteractive('df-a7c35f96-5cd1-46f5-8a9d-569e89e609b9')\"\n",
              "              title=\"Convert this dataframe to an interactive table.\"\n",
              "              style=\"display:none;\">\n",
              "        \n",
              "  <svg xmlns=\"http://www.w3.org/2000/svg\" height=\"24px\"viewBox=\"0 0 24 24\"\n",
              "       width=\"24px\">\n",
              "    <path d=\"M0 0h24v24H0V0z\" fill=\"none\"/>\n",
              "    <path d=\"M18.56 5.44l.94 2.06.94-2.06 2.06-.94-2.06-.94-.94-2.06-.94 2.06-2.06.94zm-11 1L8.5 8.5l.94-2.06 2.06-.94-2.06-.94L8.5 2.5l-.94 2.06-2.06.94zm10 10l.94 2.06.94-2.06 2.06-.94-2.06-.94-.94-2.06-.94 2.06-2.06.94z\"/><path d=\"M17.41 7.96l-1.37-1.37c-.4-.4-.92-.59-1.43-.59-.52 0-1.04.2-1.43.59L10.3 9.45l-7.72 7.72c-.78.78-.78 2.05 0 2.83L4 21.41c.39.39.9.59 1.41.59.51 0 1.02-.2 1.41-.59l7.78-7.78 2.81-2.81c.8-.78.8-2.07 0-2.86zM5.41 20L4 18.59l7.72-7.72 1.47 1.35L5.41 20z\"/>\n",
              "  </svg>\n",
              "      </button>\n",
              "      \n",
              "  <style>\n",
              "    .colab-df-container {\n",
              "      display:flex;\n",
              "      flex-wrap:wrap;\n",
              "      gap: 12px;\n",
              "    }\n",
              "\n",
              "    .colab-df-convert {\n",
              "      background-color: #E8F0FE;\n",
              "      border: none;\n",
              "      border-radius: 50%;\n",
              "      cursor: pointer;\n",
              "      display: none;\n",
              "      fill: #1967D2;\n",
              "      height: 32px;\n",
              "      padding: 0 0 0 0;\n",
              "      width: 32px;\n",
              "    }\n",
              "\n",
              "    .colab-df-convert:hover {\n",
              "      background-color: #E2EBFA;\n",
              "      box-shadow: 0px 1px 2px rgba(60, 64, 67, 0.3), 0px 1px 3px 1px rgba(60, 64, 67, 0.15);\n",
              "      fill: #174EA6;\n",
              "    }\n",
              "\n",
              "    [theme=dark] .colab-df-convert {\n",
              "      background-color: #3B4455;\n",
              "      fill: #D2E3FC;\n",
              "    }\n",
              "\n",
              "    [theme=dark] .colab-df-convert:hover {\n",
              "      background-color: #434B5C;\n",
              "      box-shadow: 0px 1px 3px 1px rgba(0, 0, 0, 0.15);\n",
              "      filter: drop-shadow(0px 1px 2px rgba(0, 0, 0, 0.3));\n",
              "      fill: #FFFFFF;\n",
              "    }\n",
              "  </style>\n",
              "\n",
              "      <script>\n",
              "        const buttonEl =\n",
              "          document.querySelector('#df-a7c35f96-5cd1-46f5-8a9d-569e89e609b9 button.colab-df-convert');\n",
              "        buttonEl.style.display =\n",
              "          google.colab.kernel.accessAllowed ? 'block' : 'none';\n",
              "\n",
              "        async function convertToInteractive(key) {\n",
              "          const element = document.querySelector('#df-a7c35f96-5cd1-46f5-8a9d-569e89e609b9');\n",
              "          const dataTable =\n",
              "            await google.colab.kernel.invokeFunction('convertToInteractive',\n",
              "                                                     [key], {});\n",
              "          if (!dataTable) return;\n",
              "\n",
              "          const docLinkHtml = 'Like what you see? Visit the ' +\n",
              "            '<a target=\"_blank\" href=https://colab.research.google.com/notebooks/data_table.ipynb>data table notebook</a>'\n",
              "            + ' to learn more about interactive tables.';\n",
              "          element.innerHTML = '';\n",
              "          dataTable['output_type'] = 'display_data';\n",
              "          await google.colab.output.renderOutput(dataTable, element);\n",
              "          const docLink = document.createElement('div');\n",
              "          docLink.innerHTML = docLinkHtml;\n",
              "          element.appendChild(docLink);\n",
              "        }\n",
              "      </script>\n",
              "    </div>\n",
              "  </div>\n",
              "  "
            ]
          },
          "metadata": {},
          "execution_count": 113
        }
      ]
    },
    {
      "cell_type": "code",
      "source": [
        "df = df.drop(['Address','List Date'] ,axis=1)"
      ],
      "metadata": {
        "id": "2YTXhgvBcnPb"
      },
      "execution_count": null,
      "outputs": []
    },
    {
      "cell_type": "code",
      "source": [
        "#df['TypeDwel'].value_counts()"
      ],
      "metadata": {
        "id": "avSKw797bE55"
      },
      "execution_count": null,
      "outputs": []
    },
    {
      "cell_type": "code",
      "source": [
        "#df.loc[ df.TypeDwel==\"HACR\", \"TypeDwel\"] = 'OTHER'\n",
        "#df.loc[ df.TypeDwel==\"TWNHS\", \"TypeDwel\"] = 'OTHER'\n",
        "#df.loc[ df.TypeDwel==\"RECRE\", \"TypeDwel\"] = 'OTHER'"
      ],
      "metadata": {
        "id": "_iiaTqobbaqU"
      },
      "execution_count": null,
      "outputs": []
    },
    {
      "cell_type": "code",
      "source": [
        "df.info()"
      ],
      "metadata": {
        "colab": {
          "base_uri": "https://localhost:8080/"
        },
        "id": "sDOEEya7eZYP",
        "outputId": "f0058890-cdec-4478-b216-7bd8ae01edd6"
      },
      "execution_count": null,
      "outputs": [
        {
          "output_type": "stream",
          "name": "stdout",
          "text": [
            "<class 'pandas.core.frame.DataFrame'>\n",
            "Int64Index: 178609 entries, 0 to 178609\n",
            "Data columns (total 12 columns):\n",
            " #   Column           Non-Null Count   Dtype  \n",
            "---  ------           --------------   -----  \n",
            " 0   ML #             178609 non-null  object \n",
            " 1   Price            178609 non-null  float64\n",
            " 2   List Duration    178609 non-null  int64  \n",
            " 3   Total Bedrooms   178609 non-null  int64  \n",
            " 4   Total Bathrooms  178609 non-null  float64\n",
            " 5   Total Area       178609 non-null  int64  \n",
            " 6   Age              178609 non-null  float64\n",
            " 7   Frontage         178609 non-null  float64\n",
            " 8   Total Kitchens   178609 non-null  int64  \n",
            " 9   City             178609 non-null  object \n",
            " 10  ifPendemic       178609 non-null  int64  \n",
            " 11  ifAdditionalTax  178609 non-null  int64  \n",
            "dtypes: float64(4), int64(6), object(2)\n",
            "memory usage: 17.7+ MB\n"
          ]
        }
      ]
    },
    {
      "cell_type": "code",
      "source": [
        "#df['TotFlArea'] = df['TotFlArea'].replace('[\\,,]', '', regex=True).astype(float)"
      ],
      "metadata": {
        "id": "OSp4RS1dgXXB"
      },
      "execution_count": null,
      "outputs": []
    },
    {
      "cell_type": "code",
      "source": [
        "df.info()"
      ],
      "metadata": {
        "colab": {
          "base_uri": "https://localhost:8080/"
        },
        "outputId": "3bc0cf46-bfdb-4291-c0dd-96dc2a7c4ea1",
        "id": "fHKIcQU0hMY5"
      },
      "execution_count": null,
      "outputs": [
        {
          "output_type": "stream",
          "name": "stdout",
          "text": [
            "<class 'pandas.core.frame.DataFrame'>\n",
            "Int64Index: 178609 entries, 0 to 178609\n",
            "Data columns (total 12 columns):\n",
            " #   Column           Non-Null Count   Dtype  \n",
            "---  ------           --------------   -----  \n",
            " 0   ML #             178609 non-null  object \n",
            " 1   Price            178609 non-null  float64\n",
            " 2   List Duration    178609 non-null  int64  \n",
            " 3   Total Bedrooms   178609 non-null  int64  \n",
            " 4   Total Bathrooms  178609 non-null  float64\n",
            " 5   Total Area       178609 non-null  int64  \n",
            " 6   Age              178609 non-null  float64\n",
            " 7   Frontage         178609 non-null  float64\n",
            " 8   Total Kitchens   178609 non-null  int64  \n",
            " 9   City             178609 non-null  object \n",
            " 10  ifPendemic       178609 non-null  int64  \n",
            " 11  ifAdditionalTax  178609 non-null  int64  \n",
            "dtypes: float64(4), int64(6), object(2)\n",
            "memory usage: 17.7+ MB\n"
          ]
        }
      ]
    },
    {
      "cell_type": "code",
      "source": [
        "#df['Frontage'] = df['Frontage'].replace('[\\,,]', '', regex=True).astype(float)"
      ],
      "metadata": {
        "id": "mfoVV66fhbNc"
      },
      "execution_count": null,
      "outputs": []
    },
    {
      "cell_type": "code",
      "source": [
        "cat = []\n",
        "\n",
        "for i in df.columns:\n",
        "    if df[i].dtype == 'O':\n",
        "        cat.append(i)"
      ],
      "metadata": {
        "id": "sl8hV1jHh8U3"
      },
      "execution_count": null,
      "outputs": []
    },
    {
      "cell_type": "code",
      "source": [
        "from sklearn.preprocessing import LabelEncoder\n",
        "le = LabelEncoder()\n",
        "\n",
        "for i in cat:\n",
        "    print(\"Encoding\",i)\n",
        "    df[i] = le.fit_transform(df[i])"
      ],
      "metadata": {
        "colab": {
          "base_uri": "https://localhost:8080/"
        },
        "id": "FAhFJZoniEOL",
        "outputId": "5a0f4496-7aef-4262-a652-6ff1ab80119a"
      },
      "execution_count": null,
      "outputs": [
        {
          "output_type": "stream",
          "name": "stdout",
          "text": [
            "Encoding ML #\n",
            "Encoding City\n"
          ]
        }
      ]
    },
    {
      "cell_type": "code",
      "source": [
        "df.head()"
      ],
      "metadata": {
        "colab": {
          "base_uri": "https://localhost:8080/",
          "height": 206
        },
        "id": "uZGz4YwJiMSW",
        "outputId": "220c54ac-f27b-4e2d-f9e4-9c50db930f6b"
      },
      "execution_count": null,
      "outputs": [
        {
          "output_type": "execute_result",
          "data": {
            "text/plain": [
              "     ML #     Price  List Duration  Total Bedrooms  Total Bathrooms  \\\n",
              "0  133551   61700.0              2               3              2.0   \n",
              "1   89310  172800.0             95               2              1.0   \n",
              "2   80813  187000.0             99               2              1.0   \n",
              "3   99264  189500.0              2               2              2.0   \n",
              "4   78778  190000.0             21               2              1.0   \n",
              "\n",
              "   Total Area        Age  Frontage  Total Kitchens  City  ifPendemic  \\\n",
              "0        1340  60.000000      50.0               1     0           0   \n",
              "1        1200  37.580899      33.0               1     0           0   \n",
              "2         700  48.000000      66.0               1     0           0   \n",
              "3         943   9.000000       0.0               1     0           0   \n",
              "4        1354  37.580899      71.0               1     0           0   \n",
              "\n",
              "   ifAdditionalTax  \n",
              "0                0  \n",
              "1                0  \n",
              "2                0  \n",
              "3                0  \n",
              "4                0  "
            ],
            "text/html": [
              "\n",
              "  <div id=\"df-1920dee1-48bc-4871-9b7b-e4e338b69533\">\n",
              "    <div class=\"colab-df-container\">\n",
              "      <div>\n",
              "<style scoped>\n",
              "    .dataframe tbody tr th:only-of-type {\n",
              "        vertical-align: middle;\n",
              "    }\n",
              "\n",
              "    .dataframe tbody tr th {\n",
              "        vertical-align: top;\n",
              "    }\n",
              "\n",
              "    .dataframe thead th {\n",
              "        text-align: right;\n",
              "    }\n",
              "</style>\n",
              "<table border=\"1\" class=\"dataframe\">\n",
              "  <thead>\n",
              "    <tr style=\"text-align: right;\">\n",
              "      <th></th>\n",
              "      <th>ML #</th>\n",
              "      <th>Price</th>\n",
              "      <th>List Duration</th>\n",
              "      <th>Total Bedrooms</th>\n",
              "      <th>Total Bathrooms</th>\n",
              "      <th>Total Area</th>\n",
              "      <th>Age</th>\n",
              "      <th>Frontage</th>\n",
              "      <th>Total Kitchens</th>\n",
              "      <th>City</th>\n",
              "      <th>ifPendemic</th>\n",
              "      <th>ifAdditionalTax</th>\n",
              "    </tr>\n",
              "  </thead>\n",
              "  <tbody>\n",
              "    <tr>\n",
              "      <th>0</th>\n",
              "      <td>133551</td>\n",
              "      <td>61700.0</td>\n",
              "      <td>2</td>\n",
              "      <td>3</td>\n",
              "      <td>2.0</td>\n",
              "      <td>1340</td>\n",
              "      <td>60.000000</td>\n",
              "      <td>50.0</td>\n",
              "      <td>1</td>\n",
              "      <td>0</td>\n",
              "      <td>0</td>\n",
              "      <td>0</td>\n",
              "    </tr>\n",
              "    <tr>\n",
              "      <th>1</th>\n",
              "      <td>89310</td>\n",
              "      <td>172800.0</td>\n",
              "      <td>95</td>\n",
              "      <td>2</td>\n",
              "      <td>1.0</td>\n",
              "      <td>1200</td>\n",
              "      <td>37.580899</td>\n",
              "      <td>33.0</td>\n",
              "      <td>1</td>\n",
              "      <td>0</td>\n",
              "      <td>0</td>\n",
              "      <td>0</td>\n",
              "    </tr>\n",
              "    <tr>\n",
              "      <th>2</th>\n",
              "      <td>80813</td>\n",
              "      <td>187000.0</td>\n",
              "      <td>99</td>\n",
              "      <td>2</td>\n",
              "      <td>1.0</td>\n",
              "      <td>700</td>\n",
              "      <td>48.000000</td>\n",
              "      <td>66.0</td>\n",
              "      <td>1</td>\n",
              "      <td>0</td>\n",
              "      <td>0</td>\n",
              "      <td>0</td>\n",
              "    </tr>\n",
              "    <tr>\n",
              "      <th>3</th>\n",
              "      <td>99264</td>\n",
              "      <td>189500.0</td>\n",
              "      <td>2</td>\n",
              "      <td>2</td>\n",
              "      <td>2.0</td>\n",
              "      <td>943</td>\n",
              "      <td>9.000000</td>\n",
              "      <td>0.0</td>\n",
              "      <td>1</td>\n",
              "      <td>0</td>\n",
              "      <td>0</td>\n",
              "      <td>0</td>\n",
              "    </tr>\n",
              "    <tr>\n",
              "      <th>4</th>\n",
              "      <td>78778</td>\n",
              "      <td>190000.0</td>\n",
              "      <td>21</td>\n",
              "      <td>2</td>\n",
              "      <td>1.0</td>\n",
              "      <td>1354</td>\n",
              "      <td>37.580899</td>\n",
              "      <td>71.0</td>\n",
              "      <td>1</td>\n",
              "      <td>0</td>\n",
              "      <td>0</td>\n",
              "      <td>0</td>\n",
              "    </tr>\n",
              "  </tbody>\n",
              "</table>\n",
              "</div>\n",
              "      <button class=\"colab-df-convert\" onclick=\"convertToInteractive('df-1920dee1-48bc-4871-9b7b-e4e338b69533')\"\n",
              "              title=\"Convert this dataframe to an interactive table.\"\n",
              "              style=\"display:none;\">\n",
              "        \n",
              "  <svg xmlns=\"http://www.w3.org/2000/svg\" height=\"24px\"viewBox=\"0 0 24 24\"\n",
              "       width=\"24px\">\n",
              "    <path d=\"M0 0h24v24H0V0z\" fill=\"none\"/>\n",
              "    <path d=\"M18.56 5.44l.94 2.06.94-2.06 2.06-.94-2.06-.94-.94-2.06-.94 2.06-2.06.94zm-11 1L8.5 8.5l.94-2.06 2.06-.94-2.06-.94L8.5 2.5l-.94 2.06-2.06.94zm10 10l.94 2.06.94-2.06 2.06-.94-2.06-.94-.94-2.06-.94 2.06-2.06.94z\"/><path d=\"M17.41 7.96l-1.37-1.37c-.4-.4-.92-.59-1.43-.59-.52 0-1.04.2-1.43.59L10.3 9.45l-7.72 7.72c-.78.78-.78 2.05 0 2.83L4 21.41c.39.39.9.59 1.41.59.51 0 1.02-.2 1.41-.59l7.78-7.78 2.81-2.81c.8-.78.8-2.07 0-2.86zM5.41 20L4 18.59l7.72-7.72 1.47 1.35L5.41 20z\"/>\n",
              "  </svg>\n",
              "      </button>\n",
              "      \n",
              "  <style>\n",
              "    .colab-df-container {\n",
              "      display:flex;\n",
              "      flex-wrap:wrap;\n",
              "      gap: 12px;\n",
              "    }\n",
              "\n",
              "    .colab-df-convert {\n",
              "      background-color: #E8F0FE;\n",
              "      border: none;\n",
              "      border-radius: 50%;\n",
              "      cursor: pointer;\n",
              "      display: none;\n",
              "      fill: #1967D2;\n",
              "      height: 32px;\n",
              "      padding: 0 0 0 0;\n",
              "      width: 32px;\n",
              "    }\n",
              "\n",
              "    .colab-df-convert:hover {\n",
              "      background-color: #E2EBFA;\n",
              "      box-shadow: 0px 1px 2px rgba(60, 64, 67, 0.3), 0px 1px 3px 1px rgba(60, 64, 67, 0.15);\n",
              "      fill: #174EA6;\n",
              "    }\n",
              "\n",
              "    [theme=dark] .colab-df-convert {\n",
              "      background-color: #3B4455;\n",
              "      fill: #D2E3FC;\n",
              "    }\n",
              "\n",
              "    [theme=dark] .colab-df-convert:hover {\n",
              "      background-color: #434B5C;\n",
              "      box-shadow: 0px 1px 3px 1px rgba(0, 0, 0, 0.15);\n",
              "      filter: drop-shadow(0px 1px 2px rgba(0, 0, 0, 0.3));\n",
              "      fill: #FFFFFF;\n",
              "    }\n",
              "  </style>\n",
              "\n",
              "      <script>\n",
              "        const buttonEl =\n",
              "          document.querySelector('#df-1920dee1-48bc-4871-9b7b-e4e338b69533 button.colab-df-convert');\n",
              "        buttonEl.style.display =\n",
              "          google.colab.kernel.accessAllowed ? 'block' : 'none';\n",
              "\n",
              "        async function convertToInteractive(key) {\n",
              "          const element = document.querySelector('#df-1920dee1-48bc-4871-9b7b-e4e338b69533');\n",
              "          const dataTable =\n",
              "            await google.colab.kernel.invokeFunction('convertToInteractive',\n",
              "                                                     [key], {});\n",
              "          if (!dataTable) return;\n",
              "\n",
              "          const docLinkHtml = 'Like what you see? Visit the ' +\n",
              "            '<a target=\"_blank\" href=https://colab.research.google.com/notebooks/data_table.ipynb>data table notebook</a>'\n",
              "            + ' to learn more about interactive tables.';\n",
              "          element.innerHTML = '';\n",
              "          dataTable['output_type'] = 'display_data';\n",
              "          await google.colab.output.renderOutput(dataTable, element);\n",
              "          const docLink = document.createElement('div');\n",
              "          docLink.innerHTML = docLinkHtml;\n",
              "          element.appendChild(docLink);\n",
              "        }\n",
              "      </script>\n",
              "    </div>\n",
              "  </div>\n",
              "  "
            ]
          },
          "metadata": {},
          "execution_count": 123
        }
      ]
    },
    {
      "cell_type": "code",
      "source": [
        "df.to_csv('/content/drive/My Drive/Colab Notebooks/data.csv', index = False)"
      ],
      "metadata": {
        "id": "MzBFuNjbAH47"
      },
      "execution_count": null,
      "outputs": []
    },
    {
      "cell_type": "markdown",
      "source": [
        "Train Test Split "
      ],
      "metadata": {
        "id": "2VRjAGnXop7V"
      }
    },
    {
      "cell_type": "code",
      "source": [
        "from sklearn.preprocessing import MinMaxScaler,StandardScaler\n",
        "\n",
        "## Splitting data\n",
        "\n",
        "from sklearn.model_selection import train_test_split\n",
        "\n",
        "X=df.drop(columns=['Price'],axis=1)\n",
        "y =df['Price']\n",
        "\n",
        "X_train_org, X_test_org, y_train, y_test = train_test_split(X,y, test_size=0.3, random_state = 0)\n",
        "\n",
        "scaler = MinMaxScaler()\n",
        "X_train = scaler.fit_transform(X_train_org)\n",
        "X_test = scaler.transform(X_test_org)\n",
        "\n",
        "print(X_train.shape)\n",
        "print(y_train.shape)\n",
        "print(X_test.shape)\n",
        "print(y_test.shape)"
      ],
      "metadata": {
        "id": "DCvPSFJ4o7EV",
        "colab": {
          "base_uri": "https://localhost:8080/"
        },
        "outputId": "377034be-22b3-4910-b843-082987be48e8"
      },
      "execution_count": null,
      "outputs": [
        {
          "output_type": "stream",
          "name": "stdout",
          "text": [
            "(125026, 11)\n",
            "(125026,)\n",
            "(53583, 11)\n",
            "(53583,)\n"
          ]
        }
      ]
    },
    {
      "cell_type": "markdown",
      "source": [
        "## Linear Regression "
      ],
      "metadata": {
        "id": "gQcNkyb0GSKb"
      }
    },
    {
      "cell_type": "code",
      "source": [
        "from sklearn.linear_model import LinearRegression\n",
        "lreg = LinearRegression()\n",
        "lreg.fit(X_train, y_train)"
      ],
      "metadata": {
        "colab": {
          "base_uri": "https://localhost:8080/"
        },
        "id": "v7dHoLoZGRiM",
        "outputId": "6c162004-b5e3-44f6-f351-aa32dd68b4dc"
      },
      "execution_count": null,
      "outputs": [
        {
          "output_type": "execute_result",
          "data": {
            "text/plain": [
              "LinearRegression()"
            ]
          },
          "metadata": {},
          "execution_count": 126
        }
      ]
    },
    {
      "cell_type": "code",
      "source": [
        "print('Train score: {:.4f} %'.format(lreg.score(X_train, y_train)*100))\n",
        "print('Test score: {:.4f} %'.format(lreg.score(X_test, y_test)*100))"
      ],
      "metadata": {
        "colab": {
          "base_uri": "https://localhost:8080/"
        },
        "id": "xymNy_ORHxBH",
        "outputId": "e4ba0fbb-5dbf-4397-c9b1-3403e43bde5d"
      },
      "execution_count": null,
      "outputs": [
        {
          "output_type": "stream",
          "name": "stdout",
          "text": [
            "Train score: 53.7072 %\n",
            "Test score: 54.1636 %\n"
          ]
        }
      ]
    },
    {
      "cell_type": "markdown",
      "source": [
        "Cross Validation for linear regression"
      ],
      "metadata": {
        "id": "BqNnLP2OMrK6"
      }
    },
    {
      "cell_type": "code",
      "source": [
        "from sklearn.model_selection import cross_val_score, cross_val_predict\n",
        "lin_reg = LinearRegression()\n",
        "scores_train = cross_val_score(lin_reg, X_train, y_train)\n",
        "scores_test = cross_val_predict(lin_reg, X_test, y_test)\n",
        "print(\"Cross-validation scores_train: {}\".format(scores_train))\n",
        "print(\"Cross-validation scores_test: {}\".format(scores_test))"
      ],
      "metadata": {
        "colab": {
          "base_uri": "https://localhost:8080/"
        },
        "id": "_YMh7a0fMqSS",
        "outputId": "e0ed94b2-1d7a-4474-c106-7af1dc854a1a"
      },
      "execution_count": null,
      "outputs": [
        {
          "output_type": "stream",
          "name": "stdout",
          "text": [
            "Cross-validation scores_train: [0.54531752 0.54140116 0.53513418 0.51489882 0.54675093]\n",
            "Cross-validation scores_test: [1563675.33595847  986445.46115961  787379.1910956  ... 1657016.38988911\n",
            "  490078.99104652  724849.33059634]\n"
          ]
        }
      ]
    },
    {
      "cell_type": "markdown",
      "source": [
        "## KNN"
      ],
      "metadata": {
        "id": "TRJ6S9KrJK01"
      }
    },
    {
      "cell_type": "code",
      "source": [
        "from sklearn.neighbors import KNeighborsRegressor\n",
        "import matplotlib.pyplot as plt\n",
        "\n",
        "sns.set(rc={'figure.figsize':(20,12)})\n",
        "\n",
        "train_score_array = []\n",
        "test_score_array = []\n",
        "\n",
        "for k in range(1,10):\n",
        "    knn_reg = KNeighborsRegressor(k)\n",
        "    knn_reg.fit(X_train, y_train)\n",
        "    train_score_array.append(knn_reg.score(X_train, y_train))\n",
        "    test_score_array.append(knn_reg.score(X_test, y_test))\n",
        "\n",
        "x_axis = range(1,10)\n",
        "plt.plot(x_axis, train_score_array, c = 'g', label = 'Train Score')\n",
        "plt.plot(x_axis, test_score_array, c = 'b', label = 'Test Score')\n",
        "plt.legend() \n",
        "plt.xlabel('K Value')\n",
        "plt.ylabel('Score')"
      ],
      "metadata": {
        "colab": {
          "base_uri": "https://localhost:8080/",
          "height": 737
        },
        "id": "3jRiYLAXJJ9E",
        "outputId": "4634a0f0-080b-4f11-b259-1529f8ba2bc5"
      },
      "execution_count": null,
      "outputs": [
        {
          "output_type": "execute_result",
          "data": {
            "text/plain": [
              "Text(0, 0.5, 'Score')"
            ]
          },
          "metadata": {},
          "execution_count": 129
        },
        {
          "output_type": "display_data",
          "data": {
            "text/plain": [
              "<Figure size 1440x864 with 1 Axes>"
            ],
            "image/png": "[encoded data removed]"
          },
          "metadata": {}
        }
      ]
    },
    {
      "cell_type": "code",
      "source": [],
      "metadata": {
        "id": "eMlLGkDTKszg"
      },
      "execution_count": null,
      "outputs": []
    },
    {
      "cell_type": "markdown",
      "source": [
        "## Decision trees"
      ],
      "metadata": {
        "id": "w_8NY9LbK5Je"
      }
    },
    {
      "cell_type": "code",
      "source": [
        "from sklearn.tree import DecisionTreeRegressor\n",
        "\n",
        "sns.set(rc={'figure.figsize':(20,12)})\n",
        "\n",
        "\n",
        "train_score_array = []\n",
        "test_score_array = []\n",
        "\n",
        "for n in range(1,10):\n",
        "    tree = DecisionTreeRegressor(max_depth=n)\n",
        "    tree.fit(X_train, y_train)\n",
        "    train_score_array.append(tree.score(X_train, y_train))\n",
        "    test_score_array.append(tree.score(X_test, y_test))\n",
        "\n",
        "x_axis = range(1,10)\n",
        "plt.plot(x_axis, train_score_array, c = 'g', label = 'Train Score')\n",
        "plt.plot(x_axis, test_score_array, c = 'b', label = 'Test Score')\n",
        "plt.legend()\n",
        "plt.xlabel('Max Depth')\n",
        "plt.ylabel('Scores')"
      ],
      "metadata": {
        "colab": {
          "base_uri": "https://localhost:8080/",
          "height": 737
        },
        "id": "IZj5RZ3eK9s1",
        "outputId": "03827d15-0027-4f6b-cd57-4613a6bd34b7"
      },
      "execution_count": null,
      "outputs": [
        {
          "output_type": "execute_result",
          "data": {
            "text/plain": [
              "Text(0, 0.5, 'Scores')"
            ]
          },
          "metadata": {},
          "execution_count": 130
        },
        {
          "output_type": "display_data",
          "data": {
            "text/plain": [
              "<Figure size 1440x864 with 1 Axes>"
            ],
            "image/png": "[encoded data removed]"
          },
          "metadata": {}
        }
      ]
    },
    {
      "cell_type": "code",
      "source": [
        "from sklearn.metrics import r2_score,mean_squared_error\n",
        "from sklearn.metrics import classification_report,confusion_matrix"
      ],
      "metadata": {
        "id": "eFh8balQLaZB"
      },
      "execution_count": null,
      "outputs": []
    },
    {
      "cell_type": "code",
      "source": [
        "tree = DecisionTreeRegressor(max_depth=4)\n",
        "tree.fit(X_train, y_train)\n",
        "\n",
        "y_pred=tree.predict(X_test)\n",
        "\n",
        "print('Train score: {:.4f} %'.format(tree.score(X_train, y_train)*100))\n",
        "print('Test score: {:.4f} %'.format(tree.score(X_test, y_test)*100))\n",
        "\n",
        "print('RMSE: {:.4f}'.format(np.sqrt(mean_squared_error(y_test,y_pred))))\n",
        "print('r2_score :', tree.score(X_test,y_test))"
      ],
      "metadata": {
        "colab": {
          "base_uri": "https://localhost:8080/"
        },
        "id": "lFZQ6fpPLO16",
        "outputId": "307daacb-b40c-4fef-92f4-ed579f232c79"
      },
      "execution_count": null,
      "outputs": [
        {
          "output_type": "stream",
          "name": "stdout",
          "text": [
            "Train score: 61.5014 %\n",
            "Test score: 61.7807 %\n",
            "RMSE: 706666.3614\n",
            "r2_score : 0.6178067362851013\n"
          ]
        }
      ]
    },
    {
      "cell_type": "markdown",
      "source": [
        "## xgboost"
      ],
      "metadata": {
        "id": "5bYanh2QYHPu"
      }
    },
    {
      "cell_type": "code",
      "source": [
        "import xgboost as xgb\n",
        "from xgboost import XGBRegressor\n",
        "from sklearn.model_selection import GridSearchCV"
      ],
      "metadata": {
        "id": "-7gvcwgY3p-n"
      },
      "execution_count": null,
      "outputs": []
    },
    {
      "cell_type": "code",
      "source": [
        "xg_reg = XGBRegressor()\n",
        "\n",
        "xg_reg.fit(X_train,y_train)\n",
        "\n",
        "xg_preds = xg_reg.predict(X_test)\n",
        "\n",
        "print('Train score: {:.4f} %'.format(xg_reg.score(X_train, y_train)*100))\n",
        "print('Test score: {:.4f} %'.format(xg_reg.score(X_test, y_test)*100))\n",
        "\n",
        "print('RMSE: {:.4f}'.format(np.sqrt(mean_squared_error(y_test,xg_preds))))\n",
        "print('r2_score :', xg_reg.score(X_test,y_test))"
      ],
      "metadata": {
        "colab": {
          "base_uri": "https://localhost:8080/"
        },
        "id": "EasQ69Gv3vPi",
        "outputId": "f0bc1cb1-2185-417a-e3e9-575642f2941a"
      },
      "execution_count": null,
      "outputs": [
        {
          "output_type": "stream",
          "name": "stdout",
          "text": [
            "[23:13:27] WARNING: /workspace/src/objective/regression_obj.cu:152: reg:linear is now deprecated in favor of reg:squarederror.\n",
            "Train score: 78.0974 %\n",
            "Test score: 77.0353 %\n",
            "RMSE: 547776.5107\n",
            "r2_score : 0.7703528809222813\n"
          ]
        }
      ]
    },
    {
      "cell_type": "code",
      "source": [
        "xg_preds.predict([89310, 95, 2, 1,\n",
        "       1200, 37, 33.0, 1,\n",
        "      0, 0, 0])\n"
      ],
      "metadata": {
        "colab": {
          "base_uri": "https://localhost:8080/"
        },
        "id": "LqaxLl-p5jwj",
        "outputId": "06f4c3bb-abc0-48e0-eb81-3250fd4d7e3b"
      },
      "execution_count": null,
      "outputs": [
        {
          "output_type": "execute_result",
          "data": {
            "text/plain": [
              "array([10055670.], dtype=float32)"
            ]
          },
          "metadata": {},
          "execution_count": 137
        }
      ]
    },
    {
      "cell_type": "code",
      "source": [
        "print(xg_reg.predict([[133551, 2, 2, 1, 400, 37.58, 33, 1, 2, 0, 0]])*0.1)"
      ],
      "metadata": {
        "colab": {
          "base_uri": "https://localhost:8080/"
        },
        "id": "vTj8egcKDBIC",
        "outputId": "67202dba-7cae-47a8-f0bf-00da6b084076"
      },
      "execution_count": null,
      "outputs": [
        {
          "output_type": "stream",
          "name": "stdout",
          "text": [
            "[1200917.4]\n"
          ]
        }
      ]
    },
    {
      "cell_type": "code",
      "source": [
        "X_test[10]"
      ],
      "metadata": {
        "colab": {
          "base_uri": "https://localhost:8080/"
        },
        "id": "LTf5xxuV4jll",
        "outputId": "c6e240fa-e4ed-4c7c-933a-87fec76f3395"
      },
      "execution_count": null,
      "outputs": [
        {
          "output_type": "execute_result",
          "data": {
            "text/plain": [
              "array([7.21411601e-01, 4.03458213e-03, 2.85714286e-01, 1.66666667e-01,\n",
              "       2.23272091e-02, 5.92592593e-02, 4.68300249e-04, 2.00000000e-01,\n",
              "       8.75000000e-01, 0.00000000e+00, 0.00000000e+00])"
            ]
          },
          "metadata": {},
          "execution_count": 139
        }
      ]
    },
    {
      "cell_type": "code",
      "source": [
        "X.head()"
      ],
      "metadata": {
        "colab": {
          "base_uri": "https://localhost:8080/",
          "height": 206
        },
        "id": "lmy5vuWa6gVL",
        "outputId": "6e30473a-1d36-462d-cb8f-3bcb01f2a648"
      },
      "execution_count": null,
      "outputs": [
        {
          "output_type": "execute_result",
          "data": {
            "text/plain": [
              "     ML #  List Duration  Total Bedrooms  Total Bathrooms  Total Area  \\\n",
              "0  133551              2               3              2.0        1340   \n",
              "1   89310             95               2              1.0        1200   \n",
              "2   80813             99               2              1.0         700   \n",
              "3   99264              2               2              2.0         943   \n",
              "4   78778             21               2              1.0        1354   \n",
              "\n",
              "         Age  Frontage  Total Kitchens  City  ifPendemic  ifAdditionalTax  \n",
              "0  60.000000      50.0               1     0           0                0  \n",
              "1  37.580899      33.0               1     0           0                0  \n",
              "2  48.000000      66.0               1     0           0                0  \n",
              "3   9.000000       0.0               1     0           0                0  \n",
              "4  37.580899      71.0               1     0           0                0  "
            ],
            "text/html": [
              "\n",
              "  <div id=\"df-ddcd8931-2e78-4d4b-8fdf-ea510af2ee01\">\n",
              "    <div class=\"colab-df-container\">\n",
              "      <div>\n",
              "<style scoped>\n",
              "    .dataframe tbody tr th:only-of-type {\n",
              "        vertical-align: middle;\n",
              "    }\n",
              "\n",
              "    .dataframe tbody tr th {\n",
              "        vertical-align: top;\n",
              "    }\n",
              "\n",
              "    .dataframe thead th {\n",
              "        text-align: right;\n",
              "    }\n",
              "</style>\n",
              "<table border=\"1\" class=\"dataframe\">\n",
              "  <thead>\n",
              "    <tr style=\"text-align: right;\">\n",
              "      <th></th>\n",
              "      <th>ML #</th>\n",
              "      <th>List Duration</th>\n",
              "      <th>Total Bedrooms</th>\n",
              "      <th>Total Bathrooms</th>\n",
              "      <th>Total Area</th>\n",
              "      <th>Age</th>\n",
              "      <th>Frontage</th>\n",
              "      <th>Total Kitchens</th>\n",
              "      <th>City</th>\n",
              "      <th>ifPendemic</th>\n",
              "      <th>ifAdditionalTax</th>\n",
              "    </tr>\n",
              "  </thead>\n",
              "  <tbody>\n",
              "    <tr>\n",
              "      <th>0</th>\n",
              "      <td>133551</td>\n",
              "      <td>2</td>\n",
              "      <td>3</td>\n",
              "      <td>2.0</td>\n",
              "      <td>1340</td>\n",
              "      <td>60.000000</td>\n",
              "      <td>50.0</td>\n",
              "      <td>1</td>\n",
              "      <td>0</td>\n",
              "      <td>0</td>\n",
              "      <td>0</td>\n",
              "    </tr>\n",
              "    <tr>\n",
              "      <th>1</th>\n",
              "      <td>89310</td>\n",
              "      <td>95</td>\n",
              "      <td>2</td>\n",
              "      <td>1.0</td>\n",
              "      <td>1200</td>\n",
              "      <td>37.580899</td>\n",
              "      <td>33.0</td>\n",
              "      <td>1</td>\n",
              "      <td>0</td>\n",
              "      <td>0</td>\n",
              "      <td>0</td>\n",
              "    </tr>\n",
              "    <tr>\n",
              "      <th>2</th>\n",
              "      <td>80813</td>\n",
              "      <td>99</td>\n",
              "      <td>2</td>\n",
              "      <td>1.0</td>\n",
              "      <td>700</td>\n",
              "      <td>48.000000</td>\n",
              "      <td>66.0</td>\n",
              "      <td>1</td>\n",
              "      <td>0</td>\n",
              "      <td>0</td>\n",
              "      <td>0</td>\n",
              "    </tr>\n",
              "    <tr>\n",
              "      <th>3</th>\n",
              "      <td>99264</td>\n",
              "      <td>2</td>\n",
              "      <td>2</td>\n",
              "      <td>2.0</td>\n",
              "      <td>943</td>\n",
              "      <td>9.000000</td>\n",
              "      <td>0.0</td>\n",
              "      <td>1</td>\n",
              "      <td>0</td>\n",
              "      <td>0</td>\n",
              "      <td>0</td>\n",
              "    </tr>\n",
              "    <tr>\n",
              "      <th>4</th>\n",
              "      <td>78778</td>\n",
              "      <td>21</td>\n",
              "      <td>2</td>\n",
              "      <td>1.0</td>\n",
              "      <td>1354</td>\n",
              "      <td>37.580899</td>\n",
              "      <td>71.0</td>\n",
              "      <td>1</td>\n",
              "      <td>0</td>\n",
              "      <td>0</td>\n",
              "      <td>0</td>\n",
              "    </tr>\n",
              "  </tbody>\n",
              "</table>\n",
              "</div>\n",
              "      <button class=\"colab-df-convert\" onclick=\"convertToInteractive('df-ddcd8931-2e78-4d4b-8fdf-ea510af2ee01')\"\n",
              "              title=\"Convert this dataframe to an interactive table.\"\n",
              "              style=\"display:none;\">\n",
              "        \n",
              "  <svg xmlns=\"http://www.w3.org/2000/svg\" height=\"24px\"viewBox=\"0 0 24 24\"\n",
              "       width=\"24px\">\n",
              "    <path d=\"M0 0h24v24H0V0z\" fill=\"none\"/>\n",
              "    <path d=\"M18.56 5.44l.94 2.06.94-2.06 2.06-.94-2.06-.94-.94-2.06-.94 2.06-2.06.94zm-11 1L8.5 8.5l.94-2.06 2.06-.94-2.06-.94L8.5 2.5l-.94 2.06-2.06.94zm10 10l.94 2.06.94-2.06 2.06-.94-2.06-.94-.94-2.06-.94 2.06-2.06.94z\"/><path d=\"M17.41 7.96l-1.37-1.37c-.4-.4-.92-.59-1.43-.59-.52 0-1.04.2-1.43.59L10.3 9.45l-7.72 7.72c-.78.78-.78 2.05 0 2.83L4 21.41c.39.39.9.59 1.41.59.51 0 1.02-.2 1.41-.59l7.78-7.78 2.81-2.81c.8-.78.8-2.07 0-2.86zM5.41 20L4 18.59l7.72-7.72 1.47 1.35L5.41 20z\"/>\n",
              "  </svg>\n",
              "      </button>\n",
              "      \n",
              "  <style>\n",
              "    .colab-df-container {\n",
              "      display:flex;\n",
              "      flex-wrap:wrap;\n",
              "      gap: 12px;\n",
              "    }\n",
              "\n",
              "    .colab-df-convert {\n",
              "      background-color: #E8F0FE;\n",
              "      border: none;\n",
              "      border-radius: 50%;\n",
              "      cursor: pointer;\n",
              "      display: none;\n",
              "      fill: #1967D2;\n",
              "      height: 32px;\n",
              "      padding: 0 0 0 0;\n",
              "      width: 32px;\n",
              "    }\n",
              "\n",
              "    .colab-df-convert:hover {\n",
              "      background-color: #E2EBFA;\n",
              "      box-shadow: 0px 1px 2px rgba(60, 64, 67, 0.3), 0px 1px 3px 1px rgba(60, 64, 67, 0.15);\n",
              "      fill: #174EA6;\n",
              "    }\n",
              "\n",
              "    [theme=dark] .colab-df-convert {\n",
              "      background-color: #3B4455;\n",
              "      fill: #D2E3FC;\n",
              "    }\n",
              "\n",
              "    [theme=dark] .colab-df-convert:hover {\n",
              "      background-color: #434B5C;\n",
              "      box-shadow: 0px 1px 3px 1px rgba(0, 0, 0, 0.15);\n",
              "      filter: drop-shadow(0px 1px 2px rgba(0, 0, 0, 0.3));\n",
              "      fill: #FFFFFF;\n",
              "    }\n",
              "  </style>\n",
              "\n",
              "      <script>\n",
              "        const buttonEl =\n",
              "          document.querySelector('#df-ddcd8931-2e78-4d4b-8fdf-ea510af2ee01 button.colab-df-convert');\n",
              "        buttonEl.style.display =\n",
              "          google.colab.kernel.accessAllowed ? 'block' : 'none';\n",
              "\n",
              "        async function convertToInteractive(key) {\n",
              "          const element = document.querySelector('#df-ddcd8931-2e78-4d4b-8fdf-ea510af2ee01');\n",
              "          const dataTable =\n",
              "            await google.colab.kernel.invokeFunction('convertToInteractive',\n",
              "                                                     [key], {});\n",
              "          if (!dataTable) return;\n",
              "\n",
              "          const docLinkHtml = 'Like what you see? Visit the ' +\n",
              "            '<a target=\"_blank\" href=https://colab.research.google.com/notebooks/data_table.ipynb>data table notebook</a>'\n",
              "            + ' to learn more about interactive tables.';\n",
              "          element.innerHTML = '';\n",
              "          dataTable['output_type'] = 'display_data';\n",
              "          await google.colab.output.renderOutput(dataTable, element);\n",
              "          const docLink = document.createElement('div');\n",
              "          docLink.innerHTML = docLinkHtml;\n",
              "          element.appendChild(docLink);\n",
              "        }\n",
              "      </script>\n",
              "    </div>\n",
              "  </div>\n",
              "  "
            ]
          },
          "metadata": {},
          "execution_count": 140
        }
      ]
    },
    {
      "cell_type": "code",
      "source": [
        "from sklearn.model_selection import RepeatedKFold"
      ],
      "metadata": {
        "id": "jXpjA_-9UonR"
      },
      "execution_count": null,
      "outputs": []
    },
    {
      "cell_type": "code",
      "source": [
        "cv = RepeatedKFold(n_splits=10, n_repeats=3, random_state=1)\n",
        "# evaluate model\n",
        "scores = cross_val_score(xg_reg, X, y, cv=cv, n_jobs=-1)\n"
      ],
      "metadata": {
        "id": "kFrfoPN1Uo2k"
      },
      "execution_count": null,
      "outputs": []
    },
    {
      "cell_type": "code",
      "source": [
        "scores"
      ],
      "metadata": {
        "colab": {
          "base_uri": "https://localhost:8080/"
        },
        "id": "98puDnY0UpCs",
        "outputId": "56d383d4-f78a-407c-eae6-dcdf0d3079d5"
      },
      "execution_count": null,
      "outputs": [
        {
          "output_type": "execute_result",
          "data": {
            "text/plain": [
              "array([-275857.51193592, -281151.0684439 , -283599.26106286,\n",
              "       -280863.44962663, -277837.42651762, -284056.97733452,\n",
              "       -280218.57498618, -285588.74759952, -280517.46950321,\n",
              "       -276462.35555974, -273854.04356559, -283497.52094866,\n",
              "       -280889.71013836, -274786.99115391, -278939.78786795,\n",
              "       -283898.16815618, -285035.43327116, -285366.58576866,\n",
              "       -283888.59006223, -280087.10034601, -285299.00042341,\n",
              "       -276696.48669369, -281597.79090616, -283279.7122156 ,\n",
              "       -282900.0835169 , -283500.64163453, -281201.86165607,\n",
              "       -281010.44908665, -277128.24904996, -282442.42131028])"
            ]
          },
          "metadata": {},
          "execution_count": 143
        }
      ]
    },
    {
      "cell_type": "code",
      "source": [
        "from sklearn.model_selection import cross_val_score, cross_val_predict\n",
        "scores_test = cross_val_predict(xg_reg, X_test, y_test)\n",
        "print(\"Cross-validation scores_test: {}\".format(scores_test))"
      ],
      "metadata": {
        "outputId": "433be5ef-83a9-46b0-c3a9-08b9d4f5cffe",
        "colab": {
          "base_uri": "https://localhost:8080/"
        },
        "id": "kJqJPL8xaL7g"
      },
      "execution_count": null,
      "outputs": [
        {
          "output_type": "stream",
          "name": "stdout",
          "text": [
            "[23:17:48] WARNING: /workspace/src/objective/regression_obj.cu:152: reg:linear is now deprecated in favor of reg:squarederror.\n",
            "[23:17:50] WARNING: /workspace/src/objective/regression_obj.cu:152: reg:linear is now deprecated in favor of reg:squarederror.\n",
            "[23:17:52] WARNING: /workspace/src/objective/regression_obj.cu:152: reg:linear is now deprecated in favor of reg:squarederror.\n",
            "[23:17:54] WARNING: /workspace/src/objective/regression_obj.cu:152: reg:linear is now deprecated in favor of reg:squarederror.\n",
            "[23:17:57] WARNING: /workspace/src/objective/regression_obj.cu:152: reg:linear is now deprecated in favor of reg:squarederror.\n",
            "Cross-validation scores_test: [1419947.4   770743.25  941952.3  ... 1768634.8   430461.88  620675.56]\n"
          ]
        }
      ]
    },
    {
      "cell_type": "markdown",
      "source": [
        "## DT CV"
      ],
      "metadata": {
        "id": "kTGr0WINNPMP"
      }
    },
    {
      "cell_type": "code",
      "source": [
        "from sklearn.model_selection import cross_val_score, cross_val_predict\n",
        "tree1 = DecisionTreeRegressor(max_depth=4,min_samples_leaf=3)\n",
        "scores_train = cross_val_score(tree1, X_train, y_train)\n",
        "scores_test = cross_val_predict(tree1, X_test, y_test)\n",
        "print(\"Cross-validation scores_train: {}\".format(scores_train))\n",
        "print(\"Cross-validation scores_test: {}\".format(scores_test))"
      ],
      "metadata": {
        "id": "tZQaMpaLNTi-",
        "outputId": "6b58cbb4-ee83-4c2e-994b-d249f9007670",
        "colab": {
          "base_uri": "https://localhost:8080/"
        }
      },
      "execution_count": null,
      "outputs": [
        {
          "output_type": "stream",
          "name": "stdout",
          "text": [
            "Cross-validation scores_train: [0.62293    0.61366153 0.60977696 0.59060043 0.61496491]\n",
            "Cross-validation scores_test: [1568452.01151734  760843.28000723  760843.28000723 ...  762822.87023035\n",
            "  462094.68244406  638347.35828488]\n"
          ]
        }
      ]
    },
    {
      "cell_type": "markdown",
      "source": [
        "## Saving the model "
      ],
      "metadata": {
        "id": "vh6HgKGd23yt"
      }
    },
    {
      "cell_type": "markdown",
      "source": [
        "## Pickle Models"
      ],
      "metadata": {
        "id": "-zmGknl0Fv56"
      }
    },
    {
      "cell_type": "code",
      "source": [
        "import pickle\n",
        "\n",
        "# Save the model under the cwd\n",
        "pkl_filename = \"/content/drive/My Drive/xg_reg.pkl\"\n",
        "with open(pkl_filename, 'wb') as file:\n",
        "    pickle.dump(xg_reg, file)\n",
        "#\"/content/drive/My Drive/VanHome_AddFeature.csv\"\n",
        "\n",
        "# Load the saved model\n",
        "with open(\"/content/drive/My Drive/xg_reg.pkl\", 'rb') as file:\n",
        "    xg_reg = pickle.load(file)\n",
        " \n",
        " \n",
        "# Now you can use the model\n",
        "print(\"The prediction price is\", xg_reg.predict([[3999, 0, 0, 0, 0, 0 ,0 ,0 ,0 ,1 ,0 ]]))"
      ],
      "metadata": {
        "colab": {
          "base_uri": "https://localhost:8080/"
        },
        "id": "ifbGVwJ3Fykn",
        "outputId": "c3b1fa06-9f96-465d-834f-95c35223705f"
      },
      "execution_count": null,
      "outputs": [
        {
          "output_type": "stream",
          "name": "stdout",
          "text": [
            "[21:46:35] WARNING: /workspace/src/objective/regression_obj.cu:152: reg:linear is now deprecated in favor of reg:squarederror.\n",
            "The prediction price is [1049742.5]\n"
          ]
        }
      ]
    },
    {
      "cell_type": "markdown",
      "source": [
        "## Joblib Models"
      ],
      "metadata": {
        "id": "7jlAIvDXHgPy"
      }
    },
    {
      "cell_type": "code",
      "source": [
        "import joblib\n",
        " \n",
        "# Save the model under the cwd\n",
        "joblib_filename = \"/content/drive/My Drive/xg_reg.pkl\"\n",
        "joblib.dump(xg_reg, joblib_filename )\n",
        " \n",
        "# Load the saved model\n",
        "xg_reg = joblib.load('/content/drive/My Drive/xg_reg.pkl')\n",
        " \n",
        "# Now you can use the model\n",
        "print(xg_reg.predict([[3999, 0, 0, 0, 0, 0 ,0 ,0 ,0 ,1 ,0 ]]))"
      ],
      "metadata": {
        "colab": {
          "base_uri": "https://localhost:8080/"
        },
        "id": "8joeyNgAHkVC",
        "outputId": "0b8b08d2-3be9-4bc4-ac0c-bd71fad98e11"
      },
      "execution_count": null,
      "outputs": [
        {
          "output_type": "stream",
          "name": "stdout",
          "text": [
            "[21:52:32] WARNING: /workspace/src/objective/regression_obj.cu:152: reg:linear is now deprecated in favor of reg:squarederror.\n",
            "[1049742.5]\n"
          ]
        }
      ]
    },
    {
      "cell_type": "markdown",
      "source": [],
      "metadata": {
        "id": "zbPLjIKLJI8U"
      }
    }
  ]
}